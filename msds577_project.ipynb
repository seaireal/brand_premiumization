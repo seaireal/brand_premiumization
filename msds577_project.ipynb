{
 "cells": [
  {
   "cell_type": "code",
   "execution_count": 1,
   "metadata": {},
   "outputs": [],
   "source": [
    "import pandas as pd\n",
    "import numpy as np\n",
    "import matplotlib.pyplot as plt\n",
    "from gensim.test.utils import datapath, get_tmpfile\n",
    "from gensim.models import KeyedVectors\n",
    "from gensim.scripts.glove2word2vec import glove2word2vec\n",
    "import itertools\n",
    "import re\n",
    "import collections\n",
    "from sklearn.metrics import confusion_matrix\n",
    "import seaborn as sns; sns.set()\n"
   ]
  },
  {
   "cell_type": "code",
   "execution_count": 2,
   "metadata": {},
   "outputs": [],
   "source": [
    "df = pd.read_parquet(\"df.parquet\")"
   ]
  },
  {
   "cell_type": "code",
   "execution_count": 3,
   "metadata": {
    "scrolled": true
   },
   "outputs": [
    {
     "data": {
      "text/html": [
       "<div>\n",
       "<style scoped>\n",
       "    .dataframe tbody tr th:only-of-type {\n",
       "        vertical-align: middle;\n",
       "    }\n",
       "\n",
       "    .dataframe tbody tr th {\n",
       "        vertical-align: top;\n",
       "    }\n",
       "\n",
       "    .dataframe thead th {\n",
       "        text-align: right;\n",
       "    }\n",
       "</style>\n",
       "<table border=\"1\" class=\"dataframe\">\n",
       "  <thead>\n",
       "    <tr style=\"text-align: right;\">\n",
       "      <th></th>\n",
       "      <th>record_id</th>\n",
       "      <th>product</th>\n",
       "      <th>description</th>\n",
       "      <th>sub_category</th>\n",
       "      <th>brand</th>\n",
       "      <th>company</th>\n",
       "      <th>company_parent</th>\n",
       "      <th>market_country</th>\n",
       "      <th>store_name</th>\n",
       "      <th>store_type</th>\n",
       "      <th>import_status</th>\n",
       "      <th>unit_price</th>\n",
       "      <th>percentile</th>\n",
       "      <th>premium</th>\n",
       "      <th>doc_vec</th>\n",
       "      <th>description_token</th>\n",
       "      <th>description_wv</th>\n",
       "    </tr>\n",
       "  </thead>\n",
       "  <tbody>\n",
       "    <tr>\n",
       "      <td>0</td>\n",
       "      <td>7146579</td>\n",
       "      <td>Nocturnal Nectar Bio-Fermented Facial Essence</td>\n",
       "      <td>Named after an English wild-flower meadow, Aml...</td>\n",
       "      <td>Face/Neck Care</td>\n",
       "      <td>Amly</td>\n",
       "      <td>Amly Botanicals</td>\n",
       "      <td>Amly Botanicals</td>\n",
       "      <td>Germany</td>\n",
       "      <td>None</td>\n",
       "      <td>None</td>\n",
       "      <td>Imported</td>\n",
       "      <td>402266.00</td>\n",
       "      <td>1.000000</td>\n",
       "      <td>1</td>\n",
       "      <td>[-0.33388913, 2.1469963, 0.96274215, -0.878904...</td>\n",
       "      <td>[name, english, wild, flower, meadow, amli, de...</td>\n",
       "      <td>[[-0.051982604, -0.08290577, 0.3159616, 0.0085...</td>\n",
       "    </tr>\n",
       "    <tr>\n",
       "      <td>1</td>\n",
       "      <td>6444419</td>\n",
       "      <td>Micro Needling Pimple Patches</td>\n",
       "      <td>Vice Reversa aims to focus on targeted deliver...</td>\n",
       "      <td>Face/Neck Care</td>\n",
       "      <td>Vice Reversa</td>\n",
       "      <td>A Beauty Story</td>\n",
       "      <td>A Beauty Story</td>\n",
       "      <td>UK</td>\n",
       "      <td>Victoria Health</td>\n",
       "      <td>Internet/Mail Order</td>\n",
       "      <td>Imported</td>\n",
       "      <td>265200.00</td>\n",
       "      <td>0.999939</td>\n",
       "      <td>1</td>\n",
       "      <td>[0.59363365, 2.8043451, 0.6298298, -1.0089695,...</td>\n",
       "      <td>[vice, reversa, aim, focu, target, deliveri, s...</td>\n",
       "      <td>[[0.3694772, -0.57862556, -2.0269456, -0.64512...</td>\n",
       "    </tr>\n",
       "    <tr>\n",
       "      <td>2</td>\n",
       "      <td>6993711</td>\n",
       "      <td>Capsules Protection Totale Face Treatment Oil</td>\n",
       "      <td>The Jean d'Arcel Renovar collection is said to...</td>\n",
       "      <td>Face/Neck Care</td>\n",
       "      <td>Jean d'Arcel Renovar</td>\n",
       "      <td>Jean d'Arcel Cosmétique</td>\n",
       "      <td>Jean d'Arcel Cosmétique</td>\n",
       "      <td>Germany</td>\n",
       "      <td>Feel-Beauty.de</td>\n",
       "      <td>Internet/Mail Order</td>\n",
       "      <td>Not imported</td>\n",
       "      <td>242950.00</td>\n",
       "      <td>0.999878</td>\n",
       "      <td>1</td>\n",
       "      <td>[0.39346665, -1.5720978, 0.32630467, -0.300545...</td>\n",
       "      <td>[jean, arcel, renovar, collect, said, featur, ...</td>\n",
       "      <td>[[0.8480468, -0.055171926, -0.54320484, 0.1345...</td>\n",
       "    </tr>\n",
       "    <tr>\n",
       "      <td>3</td>\n",
       "      <td>6444421</td>\n",
       "      <td>Micro Needling Plumping Patches</td>\n",
       "      <td>Vice Reversa aims to focus on targeted deliver...</td>\n",
       "      <td>Face/Neck Care</td>\n",
       "      <td>Vice Reversa</td>\n",
       "      <td>A Beauty Story</td>\n",
       "      <td>A Beauty Story</td>\n",
       "      <td>UK</td>\n",
       "      <td>Victoria Health</td>\n",
       "      <td>Internet/Mail Order</td>\n",
       "      <td>Imported</td>\n",
       "      <td>232350.00</td>\n",
       "      <td>0.999817</td>\n",
       "      <td>1</td>\n",
       "      <td>[0.16396545, 2.3078039, 1.7311268, -0.7228534,...</td>\n",
       "      <td>[vice, reversa, aim, focu, target, deliveri, s...</td>\n",
       "      <td>[[0.3694772, -0.57862556, -2.0269456, -0.64512...</td>\n",
       "    </tr>\n",
       "    <tr>\n",
       "      <td>4</td>\n",
       "      <td>6511823</td>\n",
       "      <td>Dermatite, Psoriasis, Eczema CBD (5%) Skin Rep...</td>\n",
       "      <td>You &amp; Oil products for skin and hair are creat...</td>\n",
       "      <td>Body Care</td>\n",
       "      <td>You &amp; Oil Phyto Derma Therapy</td>\n",
       "      <td>JSC Biokosmetikos</td>\n",
       "      <td>JSC Biokosmetikos</td>\n",
       "      <td>Germany</td>\n",
       "      <td>Savue</td>\n",
       "      <td>Internet/Mail Order</td>\n",
       "      <td>nan</td>\n",
       "      <td>63360.00</td>\n",
       "      <td>0.999757</td>\n",
       "      <td>1</td>\n",
       "      <td>[1.53203, 1.2907141, -0.31864712, -1.9782542, ...</td>\n",
       "      <td>[oil, product, skin, hair, creat, exclus, ecol...</td>\n",
       "      <td>[[0.9449418, -0.19407645, 0.33627698, -1.56030...</td>\n",
       "    </tr>\n",
       "    <tr>\n",
       "      <td>...</td>\n",
       "      <td>...</td>\n",
       "      <td>...</td>\n",
       "      <td>...</td>\n",
       "      <td>...</td>\n",
       "      <td>...</td>\n",
       "      <td>...</td>\n",
       "      <td>...</td>\n",
       "      <td>...</td>\n",
       "      <td>...</td>\n",
       "      <td>...</td>\n",
       "      <td>...</td>\n",
       "      <td>...</td>\n",
       "      <td>...</td>\n",
       "      <td>...</td>\n",
       "      <td>...</td>\n",
       "      <td>...</td>\n",
       "      <td>...</td>\n",
       "    </tr>\n",
       "    <tr>\n",
       "      <td>3287</td>\n",
       "      <td>7111519</td>\n",
       "      <td>Body Lotion</td>\n",
       "      <td>Edeka Elkos Body Body Lotion has been relaunch...</td>\n",
       "      <td>Body Care</td>\n",
       "      <td>Edeka Elkos Body</td>\n",
       "      <td>Edeka Zentrale</td>\n",
       "      <td>Edeka Zentrale</td>\n",
       "      <td>Germany</td>\n",
       "      <td>Diska</td>\n",
       "      <td>Supermarket</td>\n",
       "      <td>nan</td>\n",
       "      <td>0.25</td>\n",
       "      <td>0.000122</td>\n",
       "      <td>0</td>\n",
       "      <td>[-1.3947046, 0.4628543, -0.00500729, 0.6803158...</td>\n",
       "      <td>[edeka, elko, bodi, bodi, lotion, relaunch, ne...</td>\n",
       "      <td>[[0.16146915, 0.81466347, 0.26688766, 1.377136...</td>\n",
       "    </tr>\n",
       "    <tr>\n",
       "      <td>3288</td>\n",
       "      <td>6703603</td>\n",
       "      <td>Special Natural Clay Powder</td>\n",
       "      <td>Seara Argila Natural Especial em Pó (Special N...</td>\n",
       "      <td>Body Care</td>\n",
       "      <td>Seara</td>\n",
       "      <td>Seara Produtos Naturais</td>\n",
       "      <td>Seara Produtos Naturais</td>\n",
       "      <td>Portugal</td>\n",
       "      <td>Continente</td>\n",
       "      <td>Mass Merchandise/Hypermarket</td>\n",
       "      <td>nan</td>\n",
       "      <td>0.25</td>\n",
       "      <td>0.000122</td>\n",
       "      <td>0</td>\n",
       "      <td>[1.0026945, -0.29684862, 0.1989893, 0.28999498...</td>\n",
       "      <td>[seara, argila, natur, especi, em, pó, special...</td>\n",
       "      <td>[[0.24507636, 0.19971885, 0.1813712, 0.0929433...</td>\n",
       "    </tr>\n",
       "    <tr>\n",
       "      <td>3289</td>\n",
       "      <td>6331657</td>\n",
       "      <td>Coenzyme Q10 Body Milk</td>\n",
       "      <td>Amalfi Skin Care Leite Corporal Coenzima Q10 (...</td>\n",
       "      <td>Body Care</td>\n",
       "      <td>Amalfi Skin Care</td>\n",
       "      <td>Quimi Romar</td>\n",
       "      <td>Quimi Romar</td>\n",
       "      <td>Portugal</td>\n",
       "      <td>Jumbo Auchan</td>\n",
       "      <td>Mass Merchandise/Hypermarket</td>\n",
       "      <td>Imported</td>\n",
       "      <td>0.25</td>\n",
       "      <td>0.000122</td>\n",
       "      <td>0</td>\n",
       "      <td>[-0.060306523, 0.06860288, 0.31759515, 0.22624...</td>\n",
       "      <td>[amalfi, skin, care, leit, corpor, coenzima, c...</td>\n",
       "      <td>[[-1.9248099, 0.80903107, 0.48631546, 0.015191...</td>\n",
       "    </tr>\n",
       "    <tr>\n",
       "      <td>3290</td>\n",
       "      <td>6855981</td>\n",
       "      <td>Body Milk</td>\n",
       "      <td>Amalfi Skin Care Rosa Mosqueta Leche Corporal ...</td>\n",
       "      <td>Body Care</td>\n",
       "      <td>Amalfi Skin Care Rosa Mosqueta</td>\n",
       "      <td>Quimi Romar</td>\n",
       "      <td>Quimi Romar</td>\n",
       "      <td>Spain</td>\n",
       "      <td>Carrefour</td>\n",
       "      <td>Supermarket</td>\n",
       "      <td>Not imported</td>\n",
       "      <td>0.23</td>\n",
       "      <td>0.000061</td>\n",
       "      <td>0</td>\n",
       "      <td>[0.009814276, 0.013060865, 0.09264118, 0.71502...</td>\n",
       "      <td>[amalfi, skin, care, rosa, mosqueta, lech, cor...</td>\n",
       "      <td>[[-1.9248099, 0.80903107, 0.48631546, 0.015191...</td>\n",
       "    </tr>\n",
       "    <tr>\n",
       "      <td>3291</td>\n",
       "      <td>6600153</td>\n",
       "      <td>Rose Water</td>\n",
       "      <td>Sandy Gül Suyu (Rose Water) can be used as a t...</td>\n",
       "      <td>Face/Neck Care</td>\n",
       "      <td>Sandy</td>\n",
       "      <td>Pereja Ileri Kimya San</td>\n",
       "      <td>Pereja Ileri Kimya San</td>\n",
       "      <td>Turkey</td>\n",
       "      <td>A.101</td>\n",
       "      <td>Supermarket</td>\n",
       "      <td>Not imported</td>\n",
       "      <td>0.18</td>\n",
       "      <td>0.000000</td>\n",
       "      <td>0</td>\n",
       "      <td>[-0.50167626, 0.11863858, 0.26922804, -0.39989...</td>\n",
       "      <td>[sandi, gül, suyu, rose, water, use, tonic, sk...</td>\n",
       "      <td>[[-0.1723986, 0.033396434, 0.74005365, -0.0430...</td>\n",
       "    </tr>\n",
       "  </tbody>\n",
       "</table>\n",
       "<p>3292 rows × 17 columns</p>\n",
       "</div>"
      ],
      "text/plain": [
       "      record_id                                            product  \\\n",
       "0       7146579      Nocturnal Nectar Bio-Fermented Facial Essence   \n",
       "1       6444419                      Micro Needling Pimple Patches   \n",
       "2       6993711      Capsules Protection Totale Face Treatment Oil   \n",
       "3       6444421                    Micro Needling Plumping Patches   \n",
       "4       6511823  Dermatite, Psoriasis, Eczema CBD (5%) Skin Rep...   \n",
       "...         ...                                                ...   \n",
       "3287    7111519                                        Body Lotion   \n",
       "3288    6703603                        Special Natural Clay Powder   \n",
       "3289    6331657                             Coenzyme Q10 Body Milk   \n",
       "3290    6855981                                          Body Milk   \n",
       "3291    6600153                                         Rose Water   \n",
       "\n",
       "                                            description    sub_category  \\\n",
       "0     Named after an English wild-flower meadow, Aml...  Face/Neck Care   \n",
       "1     Vice Reversa aims to focus on targeted deliver...  Face/Neck Care   \n",
       "2     The Jean d'Arcel Renovar collection is said to...  Face/Neck Care   \n",
       "3     Vice Reversa aims to focus on targeted deliver...  Face/Neck Care   \n",
       "4     You & Oil products for skin and hair are creat...       Body Care   \n",
       "...                                                 ...             ...   \n",
       "3287  Edeka Elkos Body Body Lotion has been relaunch...       Body Care   \n",
       "3288  Seara Argila Natural Especial em Pó (Special N...       Body Care   \n",
       "3289  Amalfi Skin Care Leite Corporal Coenzima Q10 (...       Body Care   \n",
       "3290  Amalfi Skin Care Rosa Mosqueta Leche Corporal ...       Body Care   \n",
       "3291  Sandy Gül Suyu (Rose Water) can be used as a t...  Face/Neck Care   \n",
       "\n",
       "                               brand                  company  \\\n",
       "0                               Amly          Amly Botanicals   \n",
       "1                       Vice Reversa           A Beauty Story   \n",
       "2               Jean d'Arcel Renovar  Jean d'Arcel Cosmétique   \n",
       "3                       Vice Reversa           A Beauty Story   \n",
       "4      You & Oil Phyto Derma Therapy        JSC Biokosmetikos   \n",
       "...                              ...                      ...   \n",
       "3287                Edeka Elkos Body           Edeka Zentrale   \n",
       "3288                           Seara  Seara Produtos Naturais   \n",
       "3289                Amalfi Skin Care              Quimi Romar   \n",
       "3290  Amalfi Skin Care Rosa Mosqueta              Quimi Romar   \n",
       "3291                           Sandy   Pereja Ileri Kimya San   \n",
       "\n",
       "               company_parent market_country       store_name  \\\n",
       "0             Amly Botanicals        Germany             None   \n",
       "1              A Beauty Story             UK  Victoria Health   \n",
       "2     Jean d'Arcel Cosmétique        Germany   Feel-Beauty.de   \n",
       "3              A Beauty Story             UK  Victoria Health   \n",
       "4           JSC Biokosmetikos        Germany            Savue   \n",
       "...                       ...            ...              ...   \n",
       "3287           Edeka Zentrale        Germany            Diska   \n",
       "3288  Seara Produtos Naturais       Portugal       Continente   \n",
       "3289              Quimi Romar       Portugal     Jumbo Auchan   \n",
       "3290              Quimi Romar          Spain        Carrefour   \n",
       "3291   Pereja Ileri Kimya San         Turkey            A.101   \n",
       "\n",
       "                        store_type import_status  unit_price  percentile  \\\n",
       "0                             None      Imported   402266.00    1.000000   \n",
       "1              Internet/Mail Order      Imported   265200.00    0.999939   \n",
       "2              Internet/Mail Order  Not imported   242950.00    0.999878   \n",
       "3              Internet/Mail Order      Imported   232350.00    0.999817   \n",
       "4              Internet/Mail Order           nan    63360.00    0.999757   \n",
       "...                            ...           ...         ...         ...   \n",
       "3287                   Supermarket           nan        0.25    0.000122   \n",
       "3288  Mass Merchandise/Hypermarket           nan        0.25    0.000122   \n",
       "3289  Mass Merchandise/Hypermarket      Imported        0.25    0.000122   \n",
       "3290                   Supermarket  Not imported        0.23    0.000061   \n",
       "3291                   Supermarket  Not imported        0.18    0.000000   \n",
       "\n",
       "      premium                                            doc_vec  \\\n",
       "0           1  [-0.33388913, 2.1469963, 0.96274215, -0.878904...   \n",
       "1           1  [0.59363365, 2.8043451, 0.6298298, -1.0089695,...   \n",
       "2           1  [0.39346665, -1.5720978, 0.32630467, -0.300545...   \n",
       "3           1  [0.16396545, 2.3078039, 1.7311268, -0.7228534,...   \n",
       "4           1  [1.53203, 1.2907141, -0.31864712, -1.9782542, ...   \n",
       "...       ...                                                ...   \n",
       "3287        0  [-1.3947046, 0.4628543, -0.00500729, 0.6803158...   \n",
       "3288        0  [1.0026945, -0.29684862, 0.1989893, 0.28999498...   \n",
       "3289        0  [-0.060306523, 0.06860288, 0.31759515, 0.22624...   \n",
       "3290        0  [0.009814276, 0.013060865, 0.09264118, 0.71502...   \n",
       "3291        0  [-0.50167626, 0.11863858, 0.26922804, -0.39989...   \n",
       "\n",
       "                                      description_token  \\\n",
       "0     [name, english, wild, flower, meadow, amli, de...   \n",
       "1     [vice, reversa, aim, focu, target, deliveri, s...   \n",
       "2     [jean, arcel, renovar, collect, said, featur, ...   \n",
       "3     [vice, reversa, aim, focu, target, deliveri, s...   \n",
       "4     [oil, product, skin, hair, creat, exclus, ecol...   \n",
       "...                                                 ...   \n",
       "3287  [edeka, elko, bodi, bodi, lotion, relaunch, ne...   \n",
       "3288  [seara, argila, natur, especi, em, pó, special...   \n",
       "3289  [amalfi, skin, care, leit, corpor, coenzima, c...   \n",
       "3290  [amalfi, skin, care, rosa, mosqueta, lech, cor...   \n",
       "3291  [sandi, gül, suyu, rose, water, use, tonic, sk...   \n",
       "\n",
       "                                         description_wv  \n",
       "0     [[-0.051982604, -0.08290577, 0.3159616, 0.0085...  \n",
       "1     [[0.3694772, -0.57862556, -2.0269456, -0.64512...  \n",
       "2     [[0.8480468, -0.055171926, -0.54320484, 0.1345...  \n",
       "3     [[0.3694772, -0.57862556, -2.0269456, -0.64512...  \n",
       "4     [[0.9449418, -0.19407645, 0.33627698, -1.56030...  \n",
       "...                                                 ...  \n",
       "3287  [[0.16146915, 0.81466347, 0.26688766, 1.377136...  \n",
       "3288  [[0.24507636, 0.19971885, 0.1813712, 0.0929433...  \n",
       "3289  [[-1.9248099, 0.80903107, 0.48631546, 0.015191...  \n",
       "3290  [[-1.9248099, 0.80903107, 0.48631546, 0.015191...  \n",
       "3291  [[-0.1723986, 0.033396434, 0.74005365, -0.0430...  \n",
       "\n",
       "[3292 rows x 17 columns]"
      ]
     },
     "execution_count": 3,
     "metadata": {},
     "output_type": "execute_result"
    }
   ],
   "source": [
    "df"
   ]
  },
  {
   "cell_type": "code",
   "execution_count": null,
   "metadata": {},
   "outputs": [],
   "source": []
  },
  {
   "cell_type": "code",
   "execution_count": 10,
   "metadata": {},
   "outputs": [],
   "source": [
    "Premium_NonPremium = df['premium']\n",
    "Doc_Vec = df['doc_vec']"
   ]
  },
  {
   "cell_type": "code",
   "execution_count": 39,
   "metadata": {},
   "outputs": [],
   "source": [
    "Doc_Vec_array = np.array(Doc_Vec.values.tolist())"
   ]
  },
  {
   "cell_type": "code",
   "execution_count": 40,
   "metadata": {},
   "outputs": [],
   "source": [
    "#Split dataset into training and test set\n",
    "from sklearn.model_selection import train_test_split\n",
    "X_train, X_test, y_train, y_test = train_test_split(Doc_Vec_array, Premium_NonPremium, test_size=0.2, random_state=100)"
   ]
  },
  {
   "cell_type": "code",
   "execution_count": 41,
   "metadata": {},
   "outputs": [
    {
     "data": {
      "text/plain": [
       "array([[-1.33352196e+00,  2.40045171e-02, -1.66448310e-01, ...,\n",
       "        -7.33567059e-01,  3.27428937e-01, -3.71708602e-01],\n",
       "       [-4.39466625e-01,  1.82640761e-01,  1.06200898e+00, ...,\n",
       "         2.69202024e-01, -1.33528829e+00, -7.87972569e-01],\n",
       "       [ 8.49326432e-01,  9.40741003e-01, -1.84730247e-01, ...,\n",
       "        -2.49549642e-01, -2.94388771e+00, -1.54712903e+00],\n",
       "       ...,\n",
       "       [-7.08502352e-01,  4.72000152e-01,  7.35374331e-01, ...,\n",
       "         5.68219900e-01,  4.98221248e-01,  4.93306145e-02],\n",
       "       [-1.30063444e-01, -3.63060951e-01, -6.21677160e-01, ...,\n",
       "        -1.21646285e-01,  2.06929818e-01,  1.68720179e-03],\n",
       "       [ 6.70225024e-01,  4.34521288e-01,  5.12650251e-01, ...,\n",
       "         4.96449679e-01,  5.39018869e-01,  4.81423527e-01]], dtype=float32)"
      ]
     },
     "execution_count": 41,
     "metadata": {},
     "output_type": "execute_result"
    }
   ],
   "source": [
    "X_train"
   ]
  },
  {
   "cell_type": "code",
   "execution_count": 46,
   "metadata": {},
   "outputs": [
    {
     "data": {
      "text/plain": [
       "(2633, 300)"
      ]
     },
     "execution_count": 46,
     "metadata": {},
     "output_type": "execute_result"
    }
   ],
   "source": [
    "X_train.shape"
   ]
  },
  {
   "cell_type": "code",
   "execution_count": 42,
   "metadata": {},
   "outputs": [
    {
     "data": {
      "text/plain": [
       "2633"
      ]
     },
     "execution_count": 42,
     "metadata": {},
     "output_type": "execute_result"
    }
   ],
   "source": [
    "len(X_train)"
   ]
  },
  {
   "cell_type": "code",
   "execution_count": 43,
   "metadata": {},
   "outputs": [
    {
     "data": {
      "text/plain": [
       "2633"
      ]
     },
     "execution_count": 43,
     "metadata": {},
     "output_type": "execute_result"
    }
   ],
   "source": [
    "len(y_train)"
   ]
  },
  {
   "cell_type": "code",
   "execution_count": 55,
   "metadata": {},
   "outputs": [
    {
     "name": "stderr",
     "output_type": "stream",
     "text": [
      "C:\\Users\\we704\\Anaconda3\\lib\\site-packages\\sklearn\\linear_model\\logistic.py:432: FutureWarning: Default solver will be changed to 'lbfgs' in 0.22. Specify a solver to silence this warning.\n",
      "  FutureWarning)\n"
     ]
    },
    {
     "data": {
      "text/plain": [
       "LogisticRegression(C=1.0, class_weight=None, dual=False, fit_intercept=True,\n",
       "                   intercept_scaling=1, l1_ratio=None, max_iter=100,\n",
       "                   multi_class='warn', n_jobs=None, penalty='l2',\n",
       "                   random_state=None, solver='warn', tol=0.0001, verbose=0,\n",
       "                   warm_start=False)"
      ]
     },
     "execution_count": 55,
     "metadata": {},
     "output_type": "execute_result"
    }
   ],
   "source": [
    "from sklearn.linear_model import LogisticRegression\n",
    "logreg = LogisticRegression()\n",
    "logreg.fit(X_train, y_train)"
   ]
  },
  {
   "cell_type": "code",
   "execution_count": 56,
   "metadata": {},
   "outputs": [],
   "source": [
    "y_pred_log = logreg.predict(X_test)"
   ]
  },
  {
   "cell_type": "code",
   "execution_count": 57,
   "metadata": {},
   "outputs": [
    {
     "name": "stdout",
     "output_type": "stream",
     "text": [
      "Testing accuracy 0.9423368740515933\n",
      "Testing F1 score: 0.9423419238275568\n"
     ]
    }
   ],
   "source": [
    "from sklearn.metrics import accuracy_score, f1_score\n",
    "print('Testing accuracy %s' % accuracy_score(y_test, y_pred_log))\n",
    "print('Testing F1 score: {}'.format(f1_score(y_test, y_pred_log, average='weighted')))"
   ]
  },
  {
   "cell_type": "code",
   "execution_count": null,
   "metadata": {},
   "outputs": [],
   "source": []
  },
  {
   "cell_type": "code",
   "execution_count": null,
   "metadata": {},
   "outputs": [],
   "source": []
  },
  {
   "cell_type": "code",
   "execution_count": 44,
   "metadata": {},
   "outputs": [],
   "source": [
    "from sklearn.naive_bayes import MultinomialNB\n",
    "\n",
    "baseline_model = MultinomialNB()"
   ]
  },
  {
   "cell_type": "code",
   "execution_count": 45,
   "metadata": {},
   "outputs": [
    {
     "ename": "ValueError",
     "evalue": "Input X must be non-negative",
     "output_type": "error",
     "traceback": [
      "\u001b[1;31m---------------------------------------------------------------------------\u001b[0m",
      "\u001b[1;31mValueError\u001b[0m                                Traceback (most recent call last)",
      "\u001b[1;32m<ipython-input-45-dbdd5b7cc567>\u001b[0m in \u001b[0;36m<module>\u001b[1;34m\u001b[0m\n\u001b[1;32m----> 1\u001b[1;33m \u001b[0mbaseline_model\u001b[0m\u001b[1;33m.\u001b[0m\u001b[0mfit\u001b[0m\u001b[1;33m(\u001b[0m\u001b[0mX_train\u001b[0m\u001b[1;33m,\u001b[0m \u001b[0my_train\u001b[0m\u001b[1;33m)\u001b[0m\u001b[1;33m\u001b[0m\u001b[1;33m\u001b[0m\u001b[0m\n\u001b[0m",
      "\u001b[1;32m~\\Anaconda3\\lib\\site-packages\\sklearn\\naive_bayes.py\u001b[0m in \u001b[0;36mfit\u001b[1;34m(self, X, y, sample_weight)\u001b[0m\n\u001b[0;32m    611\u001b[0m         self.feature_count_ = np.zeros((n_effective_classes, n_features),\n\u001b[0;32m    612\u001b[0m                                        dtype=np.float64)\n\u001b[1;32m--> 613\u001b[1;33m         \u001b[0mself\u001b[0m\u001b[1;33m.\u001b[0m\u001b[0m_count\u001b[0m\u001b[1;33m(\u001b[0m\u001b[0mX\u001b[0m\u001b[1;33m,\u001b[0m \u001b[0mY\u001b[0m\u001b[1;33m)\u001b[0m\u001b[1;33m\u001b[0m\u001b[1;33m\u001b[0m\u001b[0m\n\u001b[0m\u001b[0;32m    614\u001b[0m         \u001b[0malpha\u001b[0m \u001b[1;33m=\u001b[0m \u001b[0mself\u001b[0m\u001b[1;33m.\u001b[0m\u001b[0m_check_alpha\u001b[0m\u001b[1;33m(\u001b[0m\u001b[1;33m)\u001b[0m\u001b[1;33m\u001b[0m\u001b[1;33m\u001b[0m\u001b[0m\n\u001b[0;32m    615\u001b[0m         \u001b[0mself\u001b[0m\u001b[1;33m.\u001b[0m\u001b[0m_update_feature_log_prob\u001b[0m\u001b[1;33m(\u001b[0m\u001b[0malpha\u001b[0m\u001b[1;33m)\u001b[0m\u001b[1;33m\u001b[0m\u001b[1;33m\u001b[0m\u001b[0m\n",
      "\u001b[1;32m~\\Anaconda3\\lib\\site-packages\\sklearn\\naive_bayes.py\u001b[0m in \u001b[0;36m_count\u001b[1;34m(self, X, Y)\u001b[0m\n\u001b[0;32m    718\u001b[0m         \u001b[1;34m\"\"\"Count and smooth feature occurrences.\"\"\"\u001b[0m\u001b[1;33m\u001b[0m\u001b[1;33m\u001b[0m\u001b[0m\n\u001b[0;32m    719\u001b[0m         \u001b[1;32mif\u001b[0m \u001b[0mnp\u001b[0m\u001b[1;33m.\u001b[0m\u001b[0many\u001b[0m\u001b[1;33m(\u001b[0m\u001b[1;33m(\u001b[0m\u001b[0mX\u001b[0m\u001b[1;33m.\u001b[0m\u001b[0mdata\u001b[0m \u001b[1;32mif\u001b[0m \u001b[0missparse\u001b[0m\u001b[1;33m(\u001b[0m\u001b[0mX\u001b[0m\u001b[1;33m)\u001b[0m \u001b[1;32melse\u001b[0m \u001b[0mX\u001b[0m\u001b[1;33m)\u001b[0m \u001b[1;33m<\u001b[0m \u001b[1;36m0\u001b[0m\u001b[1;33m)\u001b[0m\u001b[1;33m:\u001b[0m\u001b[1;33m\u001b[0m\u001b[1;33m\u001b[0m\u001b[0m\n\u001b[1;32m--> 720\u001b[1;33m             \u001b[1;32mraise\u001b[0m \u001b[0mValueError\u001b[0m\u001b[1;33m(\u001b[0m\u001b[1;34m\"Input X must be non-negative\"\u001b[0m\u001b[1;33m)\u001b[0m\u001b[1;33m\u001b[0m\u001b[1;33m\u001b[0m\u001b[0m\n\u001b[0m\u001b[0;32m    721\u001b[0m         \u001b[0mself\u001b[0m\u001b[1;33m.\u001b[0m\u001b[0mfeature_count_\u001b[0m \u001b[1;33m+=\u001b[0m \u001b[0msafe_sparse_dot\u001b[0m\u001b[1;33m(\u001b[0m\u001b[0mY\u001b[0m\u001b[1;33m.\u001b[0m\u001b[0mT\u001b[0m\u001b[1;33m,\u001b[0m \u001b[0mX\u001b[0m\u001b[1;33m)\u001b[0m\u001b[1;33m\u001b[0m\u001b[1;33m\u001b[0m\u001b[0m\n\u001b[0;32m    722\u001b[0m         \u001b[0mself\u001b[0m\u001b[1;33m.\u001b[0m\u001b[0mclass_count_\u001b[0m \u001b[1;33m+=\u001b[0m \u001b[0mY\u001b[0m\u001b[1;33m.\u001b[0m\u001b[0msum\u001b[0m\u001b[1;33m(\u001b[0m\u001b[0maxis\u001b[0m\u001b[1;33m=\u001b[0m\u001b[1;36m0\u001b[0m\u001b[1;33m)\u001b[0m\u001b[1;33m\u001b[0m\u001b[1;33m\u001b[0m\u001b[0m\n",
      "\u001b[1;31mValueError\u001b[0m: Input X must be non-negative"
     ]
    }
   ],
   "source": [
    "baseline_model.fit(X_train, y_train)"
   ]
  },
  {
   "cell_type": "code",
   "execution_count": null,
   "metadata": {},
   "outputs": [],
   "source": []
  }
 ],
 "metadata": {
  "kernelspec": {
   "display_name": "Python 3",
   "language": "python",
   "name": "python3"
  },
  "language_info": {
   "codemirror_mode": {
    "name": "ipython",
    "version": 3
   },
   "file_extension": ".py",
   "mimetype": "text/x-python",
   "name": "python",
   "nbconvert_exporter": "python",
   "pygments_lexer": "ipython3",
   "version": "3.7.4"
  }
 },
 "nbformat": 4,
 "nbformat_minor": 2
}
