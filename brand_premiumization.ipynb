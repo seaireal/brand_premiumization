{
 "metadata": {
  "language_info": {
   "codemirror_mode": {
    "name": "ipython",
    "version": 3
   },
   "file_extension": ".py",
   "mimetype": "text/x-python",
   "name": "python",
   "nbconvert_exporter": "python",
   "pygments_lexer": "ipython3",
   "version": "3.7.4-final"
  },
  "orig_nbformat": 2,
  "kernelspec": {
   "name": "python3",
   "display_name": "Python 3"
  }
 },
 "nbformat": 4,
 "nbformat_minor": 2,
 "cells": [
  {
   "cell_type": "code",
   "execution_count": 1,
   "metadata": {},
   "outputs": [],
   "source": [
    "import pandas as pd\n",
    "from sklearn.metrics.pairwise import cosine_similarity"
   ]
  },
  {
   "cell_type": "code",
   "execution_count": 2,
   "metadata": {},
   "outputs": [],
   "source": [
    "df = pd.read_parquet(\"df.parquet\")"
   ]
  },
  {
   "cell_type": "code",
   "execution_count": 3,
   "metadata": {},
   "outputs": [
    {
     "output_type": "execute_result",
     "data": {
      "text/plain": [
       "(3292, 17)"
      ]
     },
     "metadata": {},
     "execution_count": 3
    }
   ],
   "source": [
    "df.shape"
   ]
  },
  {
   "cell_type": "code",
   "execution_count": 5,
   "metadata": {},
   "outputs": [
    {
     "output_type": "execute_result",
     "data": {
      "text/plain": [
       "   record_id                                            product  \\\n",
       "0    7146579      Nocturnal Nectar Bio-Fermented Facial Essence   \n",
       "1    6444419                      Micro Needling Pimple Patches   \n",
       "2    6993711      Capsules Protection Totale Face Treatment Oil   \n",
       "3    6444421                    Micro Needling Plumping Patches   \n",
       "4    6511823  Dermatite, Psoriasis, Eczema CBD (5%) Skin Rep...   \n",
       "\n",
       "                                         description    sub_category  \\\n",
       "0  Named after an English wild-flower meadow, Aml...  Face/Neck Care   \n",
       "1  Vice Reversa aims to focus on targeted deliver...  Face/Neck Care   \n",
       "2  The Jean d'Arcel Renovar collection is said to...  Face/Neck Care   \n",
       "3  Vice Reversa aims to focus on targeted deliver...  Face/Neck Care   \n",
       "4  You & Oil products for skin and hair are creat...       Body Care   \n",
       "\n",
       "                           brand                  company  \\\n",
       "0                           Amly          Amly Botanicals   \n",
       "1                   Vice Reversa           A Beauty Story   \n",
       "2           Jean d'Arcel Renovar  Jean d'Arcel Cosmétique   \n",
       "3                   Vice Reversa           A Beauty Story   \n",
       "4  You & Oil Phyto Derma Therapy        JSC Biokosmetikos   \n",
       "\n",
       "            company_parent market_country       store_name  \\\n",
       "0          Amly Botanicals        Germany             None   \n",
       "1           A Beauty Story             UK  Victoria Health   \n",
       "2  Jean d'Arcel Cosmétique        Germany   Feel-Beauty.de   \n",
       "3           A Beauty Story             UK  Victoria Health   \n",
       "4        JSC Biokosmetikos        Germany            Savue   \n",
       "\n",
       "            store_type import_status  unit_price  percentile  premium  \\\n",
       "0                 None      Imported    402266.0    1.000000        1   \n",
       "1  Internet/Mail Order      Imported    265200.0    0.999939        1   \n",
       "2  Internet/Mail Order  Not imported    242950.0    0.999878        1   \n",
       "3  Internet/Mail Order      Imported    232350.0    0.999817        1   \n",
       "4  Internet/Mail Order           nan     63360.0    0.999757        1   \n",
       "\n",
       "                                             doc_vec  \\\n",
       "0  [-0.33388913, 2.1469963, 0.96274215, -0.878904...   \n",
       "1  [0.59363365, 2.8043451, 0.6298298, -1.0089695,...   \n",
       "2  [0.39346665, -1.5720978, 0.32630467, -0.300545...   \n",
       "3  [0.16396545, 2.3078039, 1.7311268, -0.7228534,...   \n",
       "4  [1.53203, 1.2907141, -0.31864712, -1.9782542, ...   \n",
       "\n",
       "                                   description_token  \\\n",
       "0  [name, english, wild, flower, meadow, amli, de...   \n",
       "1  [vice, reversa, aim, focu, target, deliveri, s...   \n",
       "2  [jean, arcel, renovar, collect, said, featur, ...   \n",
       "3  [vice, reversa, aim, focu, target, deliveri, s...   \n",
       "4  [oil, product, skin, hair, creat, exclus, ecol...   \n",
       "\n",
       "                                      description_wv  \n",
       "0  [[-0.051982604, -0.08290577, 0.3159616, 0.0085...  \n",
       "1  [[0.3694772, -0.57862556, -2.0269456, -0.64512...  \n",
       "2  [[0.8480468, -0.055171926, -0.54320484, 0.1345...  \n",
       "3  [[0.3694772, -0.57862556, -2.0269456, -0.64512...  \n",
       "4  [[0.9449418, -0.19407645, 0.33627698, -1.56030...  "
      ],
      "text/html": "<div>\n<style scoped>\n    .dataframe tbody tr th:only-of-type {\n        vertical-align: middle;\n    }\n\n    .dataframe tbody tr th {\n        vertical-align: top;\n    }\n\n    .dataframe thead th {\n        text-align: right;\n    }\n</style>\n<table border=\"1\" class=\"dataframe\">\n  <thead>\n    <tr style=\"text-align: right;\">\n      <th></th>\n      <th>record_id</th>\n      <th>product</th>\n      <th>description</th>\n      <th>sub_category</th>\n      <th>brand</th>\n      <th>company</th>\n      <th>company_parent</th>\n      <th>market_country</th>\n      <th>store_name</th>\n      <th>store_type</th>\n      <th>import_status</th>\n      <th>unit_price</th>\n      <th>percentile</th>\n      <th>premium</th>\n      <th>doc_vec</th>\n      <th>description_token</th>\n      <th>description_wv</th>\n    </tr>\n  </thead>\n  <tbody>\n    <tr>\n      <th>0</th>\n      <td>7146579</td>\n      <td>Nocturnal Nectar Bio-Fermented Facial Essence</td>\n      <td>Named after an English wild-flower meadow, Aml...</td>\n      <td>Face/Neck Care</td>\n      <td>Amly</td>\n      <td>Amly Botanicals</td>\n      <td>Amly Botanicals</td>\n      <td>Germany</td>\n      <td>None</td>\n      <td>None</td>\n      <td>Imported</td>\n      <td>402266.0</td>\n      <td>1.000000</td>\n      <td>1</td>\n      <td>[-0.33388913, 2.1469963, 0.96274215, -0.878904...</td>\n      <td>[name, english, wild, flower, meadow, amli, de...</td>\n      <td>[[-0.051982604, -0.08290577, 0.3159616, 0.0085...</td>\n    </tr>\n    <tr>\n      <th>1</th>\n      <td>6444419</td>\n      <td>Micro Needling Pimple Patches</td>\n      <td>Vice Reversa aims to focus on targeted deliver...</td>\n      <td>Face/Neck Care</td>\n      <td>Vice Reversa</td>\n      <td>A Beauty Story</td>\n      <td>A Beauty Story</td>\n      <td>UK</td>\n      <td>Victoria Health</td>\n      <td>Internet/Mail Order</td>\n      <td>Imported</td>\n      <td>265200.0</td>\n      <td>0.999939</td>\n      <td>1</td>\n      <td>[0.59363365, 2.8043451, 0.6298298, -1.0089695,...</td>\n      <td>[vice, reversa, aim, focu, target, deliveri, s...</td>\n      <td>[[0.3694772, -0.57862556, -2.0269456, -0.64512...</td>\n    </tr>\n    <tr>\n      <th>2</th>\n      <td>6993711</td>\n      <td>Capsules Protection Totale Face Treatment Oil</td>\n      <td>The Jean d'Arcel Renovar collection is said to...</td>\n      <td>Face/Neck Care</td>\n      <td>Jean d'Arcel Renovar</td>\n      <td>Jean d'Arcel Cosmétique</td>\n      <td>Jean d'Arcel Cosmétique</td>\n      <td>Germany</td>\n      <td>Feel-Beauty.de</td>\n      <td>Internet/Mail Order</td>\n      <td>Not imported</td>\n      <td>242950.0</td>\n      <td>0.999878</td>\n      <td>1</td>\n      <td>[0.39346665, -1.5720978, 0.32630467, -0.300545...</td>\n      <td>[jean, arcel, renovar, collect, said, featur, ...</td>\n      <td>[[0.8480468, -0.055171926, -0.54320484, 0.1345...</td>\n    </tr>\n    <tr>\n      <th>3</th>\n      <td>6444421</td>\n      <td>Micro Needling Plumping Patches</td>\n      <td>Vice Reversa aims to focus on targeted deliver...</td>\n      <td>Face/Neck Care</td>\n      <td>Vice Reversa</td>\n      <td>A Beauty Story</td>\n      <td>A Beauty Story</td>\n      <td>UK</td>\n      <td>Victoria Health</td>\n      <td>Internet/Mail Order</td>\n      <td>Imported</td>\n      <td>232350.0</td>\n      <td>0.999817</td>\n      <td>1</td>\n      <td>[0.16396545, 2.3078039, 1.7311268, -0.7228534,...</td>\n      <td>[vice, reversa, aim, focu, target, deliveri, s...</td>\n      <td>[[0.3694772, -0.57862556, -2.0269456, -0.64512...</td>\n    </tr>\n    <tr>\n      <th>4</th>\n      <td>6511823</td>\n      <td>Dermatite, Psoriasis, Eczema CBD (5%) Skin Rep...</td>\n      <td>You &amp; Oil products for skin and hair are creat...</td>\n      <td>Body Care</td>\n      <td>You &amp; Oil Phyto Derma Therapy</td>\n      <td>JSC Biokosmetikos</td>\n      <td>JSC Biokosmetikos</td>\n      <td>Germany</td>\n      <td>Savue</td>\n      <td>Internet/Mail Order</td>\n      <td>nan</td>\n      <td>63360.0</td>\n      <td>0.999757</td>\n      <td>1</td>\n      <td>[1.53203, 1.2907141, -0.31864712, -1.9782542, ...</td>\n      <td>[oil, product, skin, hair, creat, exclus, ecol...</td>\n      <td>[[0.9449418, -0.19407645, 0.33627698, -1.56030...</td>\n    </tr>\n  </tbody>\n</table>\n</div>"
     },
     "metadata": {},
     "execution_count": 5
    }
   ],
   "source": [
    "df.head()"
   ]
  },
  {
   "cell_type": "code",
   "execution_count": 5,
   "metadata": {},
   "outputs": [
    {
     "output_type": "execute_result",
     "data": {
      "text/plain": [
       "array([[0.18499798]], dtype=float32)"
      ]
     },
     "metadata": {},
     "execution_count": 5
    }
   ],
   "source": [
    "cosine_similarity(df.doc_vec[0].reshape(1, -1), df.doc_vec[3291].reshape(1, -1))"
   ]
  },
  {
   "cell_type": "code",
   "execution_count": 4,
   "metadata": {},
   "outputs": [
    {
     "output_type": "execute_result",
     "data": {
      "text/plain": [
       "array([[0.1084419]], dtype=float32)"
      ]
     },
     "metadata": {},
     "execution_count": 4
    }
   ],
   "source": [
    "cosine_similarity(df.doc_vec[0].reshape(1, -1), df.doc_vec[50].reshape(1, -1))"
   ]
  }
 ]
}